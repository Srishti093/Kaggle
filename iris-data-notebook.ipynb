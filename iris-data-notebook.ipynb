{
 "cells": [
  {
   "cell_type": "code",
   "execution_count": 1,
   "id": "f2a83603",
   "metadata": {
    "_cell_guid": "b1076dfc-b9ad-4769-8c92-a6c4dae69d19",
    "_uuid": "8f2839f25d086af736a60e9eeb907d3b93b6e0e5",
    "execution": {
     "iopub.execute_input": "2024-02-11T11:37:38.023892Z",
     "iopub.status.busy": "2024-02-11T11:37:38.022787Z",
     "iopub.status.idle": "2024-02-11T11:37:39.044535Z",
     "shell.execute_reply": "2024-02-11T11:37:39.043302Z"
    },
    "papermill": {
     "duration": 1.031961,
     "end_time": "2024-02-11T11:37:39.047248",
     "exception": false,
     "start_time": "2024-02-11T11:37:38.015287",
     "status": "completed"
    },
    "tags": []
   },
   "outputs": [
    {
     "name": "stdout",
     "output_type": "stream",
     "text": [
      "/kaggle/input/beginner-datasets/beginner_datasets/ipl.csv\n",
      "/kaggle/input/beginner-datasets/beginner_datasets/forest.csv\n",
      "/kaggle/input/beginner-datasets/beginner_datasets/gold.csv\n",
      "/kaggle/input/beginner-datasets/beginner_datasets/wikipedia.csv\n",
      "/kaggle/input/beginner-datasets/beginner_datasets/migration.csv\n",
      "/kaggle/input/beginner-datasets/beginner_datasets/bank.csv\n",
      "/kaggle/input/beginner-datasets/beginner_datasets/heart_disease.csv\n",
      "/kaggle/input/beginner-datasets/beginner_datasets/satellite.csv\n",
      "/kaggle/input/beginner-datasets/beginner_datasets/parkinsons.csv\n",
      "/kaggle/input/beginner-datasets/beginner_datasets/tweets.csv\n",
      "/kaggle/input/beginner-datasets/beginner_datasets/traffic.csv\n",
      "/kaggle/input/beginner-datasets/beginner_datasets/glass.csv\n",
      "/kaggle/input/beginner-datasets/beginner_datasets/facebook.csv\n",
      "/kaggle/input/beginner-datasets/beginner_datasets/bike.csv\n",
      "/kaggle/input/beginner-datasets/beginner_datasets/france.csv\n",
      "/kaggle/input/beginner-datasets/beginner_datasets/insurance.csv\n",
      "/kaggle/input/beginner-datasets/beginner_datasets/boston.csv\n",
      "/kaggle/input/beginner-datasets/beginner_datasets/cancer.csv\n",
      "/kaggle/input/beginner-datasets/beginner_datasets/wholesale.csv\n",
      "/kaggle/input/beginner-datasets/beginner_datasets/pycaret_datasets.xlsx\n",
      "/kaggle/input/beginner-datasets/beginner_datasets/elections.csv\n",
      "/kaggle/input/beginner-datasets/beginner_datasets/jewellery.csv\n",
      "/kaggle/input/beginner-datasets/beginner_datasets/automobile.csv\n",
      "/kaggle/input/beginner-datasets/beginner_datasets/asia_gdp.csv\n",
      "/kaggle/input/beginner-datasets/beginner_datasets/concrete.csv\n",
      "/kaggle/input/beginner-datasets/beginner_datasets/blood.csv\n",
      "/kaggle/input/beginner-datasets/beginner_datasets/population.csv\n",
      "/kaggle/input/beginner-datasets/beginner_datasets/poker.csv\n",
      "/kaggle/input/beginner-datasets/beginner_datasets/electrical_grid.csv\n",
      "/kaggle/input/beginner-datasets/beginner_datasets/pokemon.csv\n",
      "/kaggle/input/beginner-datasets/beginner_datasets/mice.csv\n",
      "/kaggle/input/beginner-datasets/beginner_datasets/public_health.csv\n",
      "/kaggle/input/beginner-datasets/beginner_datasets/anomaly.csv\n",
      "/kaggle/input/beginner-datasets/beginner_datasets/income.csv\n",
      "/kaggle/input/beginner-datasets/beginner_datasets/hepatitis.csv\n",
      "/kaggle/input/beginner-datasets/beginner_datasets/amazon.csv\n",
      "/kaggle/input/beginner-datasets/beginner_datasets/house.csv\n",
      "/kaggle/input/beginner-datasets/beginner_datasets/spx.csv\n",
      "/kaggle/input/beginner-datasets/beginner_datasets/iris.csv\n",
      "/kaggle/input/beginner-datasets/beginner_datasets/juice.csv\n",
      "/kaggle/input/beginner-datasets/beginner_datasets/energy.csv\n",
      "/kaggle/input/beginner-datasets/beginner_datasets/questions.csv\n",
      "/kaggle/input/beginner-datasets/beginner_datasets/diamond.csv\n",
      "/kaggle/input/beginner-datasets/beginner_datasets/wine.csv\n",
      "/kaggle/input/beginner-datasets/beginner_datasets/employee.csv\n",
      "/kaggle/input/beginner-datasets/beginner_datasets/nba.csv\n",
      "/kaggle/input/beginner-datasets/beginner_datasets/germany.csv\n",
      "/kaggle/input/beginner-datasets/beginner_datasets/credit.csv\n",
      "/kaggle/input/beginner-datasets/beginner_datasets/heart.csv\n",
      "/kaggle/input/beginner-datasets/beginner_datasets/kiva.csv\n",
      "/kaggle/input/beginner-datasets/beginner_datasets/seeds.csv\n",
      "/kaggle/input/beginner-datasets/beginner_datasets/diabetes.csv\n"
     ]
    }
   ],
   "source": [
    "# This Python 3 environment comes with many helpful analytics libraries installed\n",
    "# It is defined by the kaggle/python Docker image: https://github.com/kaggle/docker-python\n",
    "# For example, here's several helpful packages to load\n",
    "\n",
    "import numpy as np # linear algebra\n",
    "import pandas as pd # data processing, CSV file I/O (e.g. pd.read_csv)\n",
    "\n",
    "# Input data files are available in the read-only \"../input/\" directory\n",
    "# For example, running this (by clicking run or pressing Shift+Enter) will list all files under the input directory\n",
    "\n",
    "import os\n",
    "for dirname, _, filenames in os.walk('/kaggle/input'):\n",
    "    for filename in filenames:\n",
    "        print(os.path.join(dirname, filename))\n",
    "\n",
    "# You can write up to 20GB to the current directory (/kaggle/working/) that gets preserved as output when you create a version using \"Save & Run All\" \n",
    "# You can also write temporary files to /kaggle/temp/, but they won't be saved outside of the current session"
   ]
  },
  {
   "cell_type": "code",
   "execution_count": 2,
   "id": "68e3c873",
   "metadata": {
    "execution": {
     "iopub.execute_input": "2024-02-11T11:37:39.058644Z",
     "iopub.status.busy": "2024-02-11T11:37:39.058125Z",
     "iopub.status.idle": "2024-02-11T11:37:39.083306Z",
     "shell.execute_reply": "2024-02-11T11:37:39.082354Z"
    },
    "papermill": {
     "duration": 0.033573,
     "end_time": "2024-02-11T11:37:39.085638",
     "exception": false,
     "start_time": "2024-02-11T11:37:39.052065",
     "status": "completed"
    },
    "tags": []
   },
   "outputs": [
    {
     "name": "stdout",
     "output_type": "stream",
     "text": [
      "   sepal_length  sepal_width  petal_length  petal_width      species\n",
      "0           5.1          3.5           1.4          0.2  Iris-setosa\n",
      "1           4.9          3.0           1.4          0.2  Iris-setosa\n",
      "2           4.7          3.2           1.3          0.2  Iris-setosa\n",
      "3           4.6          3.1           1.5          0.2  Iris-setosa\n",
      "4           5.0          3.6           1.4          0.2  Iris-setosa\n"
     ]
    }
   ],
   "source": [
    "data = pd.read_csv('/kaggle/input/beginner-datasets/beginner_datasets/iris.csv')\n",
    "print(data.head())"
   ]
  },
  {
   "cell_type": "code",
   "execution_count": 3,
   "id": "76d304a6",
   "metadata": {
    "execution": {
     "iopub.execute_input": "2024-02-11T11:37:39.097193Z",
     "iopub.status.busy": "2024-02-11T11:37:39.096027Z",
     "iopub.status.idle": "2024-02-11T11:37:39.108152Z",
     "shell.execute_reply": "2024-02-11T11:37:39.106810Z"
    },
    "papermill": {
     "duration": 0.020366,
     "end_time": "2024-02-11T11:37:39.110593",
     "exception": false,
     "start_time": "2024-02-11T11:37:39.090227",
     "status": "completed"
    },
    "tags": []
   },
   "outputs": [
    {
     "data": {
      "text/plain": [
       "sepal_length    0\n",
       "sepal_width     0\n",
       "petal_length    0\n",
       "petal_width     0\n",
       "species         0\n",
       "dtype: int64"
      ]
     },
     "execution_count": 3,
     "metadata": {},
     "output_type": "execute_result"
    }
   ],
   "source": [
    "data.isnull().sum()"
   ]
  },
  {
   "cell_type": "code",
   "execution_count": 4,
   "id": "567f690c",
   "metadata": {
    "execution": {
     "iopub.execute_input": "2024-02-11T11:37:39.122051Z",
     "iopub.status.busy": "2024-02-11T11:37:39.121685Z",
     "iopub.status.idle": "2024-02-11T11:37:39.132832Z",
     "shell.execute_reply": "2024-02-11T11:37:39.131901Z"
    },
    "papermill": {
     "duration": 0.019484,
     "end_time": "2024-02-11T11:37:39.134892",
     "exception": false,
     "start_time": "2024-02-11T11:37:39.115408",
     "status": "completed"
    },
    "tags": []
   },
   "outputs": [
    {
     "data": {
      "text/plain": [
       "array(['Iris-setosa', 'Iris-versicolor', 'Iris-virginica'], dtype=object)"
      ]
     },
     "execution_count": 4,
     "metadata": {},
     "output_type": "execute_result"
    }
   ],
   "source": [
    "data['species'].unique()"
   ]
  },
  {
   "cell_type": "code",
   "execution_count": 5,
   "id": "68c8fe4f",
   "metadata": {
    "execution": {
     "iopub.execute_input": "2024-02-11T11:37:39.146718Z",
     "iopub.status.busy": "2024-02-11T11:37:39.145999Z",
     "iopub.status.idle": "2024-02-11T11:37:40.635097Z",
     "shell.execute_reply": "2024-02-11T11:37:40.633749Z"
    },
    "papermill": {
     "duration": 1.498111,
     "end_time": "2024-02-11T11:37:40.637936",
     "exception": false,
     "start_time": "2024-02-11T11:37:39.139825",
     "status": "completed"
    },
    "tags": []
   },
   "outputs": [
    {
     "name": "stdout",
     "output_type": "stream",
     "text": [
      "[0 0 0 0 0 0 0 0 0 0 0 0 0 0 0 0 0 0 0 0 0 0 0 0 0 0 0 0 0 0 0 0 0 0 0 0 0\n",
      " 0 0 0 0 0 0 0 0 0 0 0 0 0 1 1 1 1 1 1 1 1 1 1 1 1 1 1 1 1 1 1 1 1 1 1 1 1\n",
      " 1 1 1 1 1 1 1 1 1 1 1 1 1 1 1 1 1 1 1 1 1 1 1 1 1 1 2 2 2 2 2 2 2 2 2 2 2\n",
      " 2 2 2 2 2 2 2 2 2 2 2 2 2 2 2 2 2 2 2 2 2 2 2 2 2 2 2 2 2 2 2 2 2 2 2 2 2\n",
      " 2 2]\n"
     ]
    }
   ],
   "source": [
    "from sklearn.preprocessing import LabelEncoder\n",
    "label = LabelEncoder()\n",
    "species = label.fit_transform(data.species)\n",
    "print(species)"
   ]
  },
  {
   "cell_type": "code",
   "execution_count": 6,
   "id": "96b02474",
   "metadata": {
    "execution": {
     "iopub.execute_input": "2024-02-11T11:37:40.650841Z",
     "iopub.status.busy": "2024-02-11T11:37:40.649664Z",
     "iopub.status.idle": "2024-02-11T11:37:40.661681Z",
     "shell.execute_reply": "2024-02-11T11:37:40.660181Z"
    },
    "papermill": {
     "duration": 0.021664,
     "end_time": "2024-02-11T11:37:40.664835",
     "exception": false,
     "start_time": "2024-02-11T11:37:40.643171",
     "status": "completed"
    },
    "tags": []
   },
   "outputs": [
    {
     "name": "stdout",
     "output_type": "stream",
     "text": [
      "   sepal_length  sepal_width  petal_length  petal_width  species\n",
      "0           5.1          3.5           1.4          0.2        0\n",
      "1           4.9          3.0           1.4          0.2        0\n",
      "2           4.7          3.2           1.3          0.2        0\n",
      "3           4.6          3.1           1.5          0.2        0\n",
      "4           5.0          3.6           1.4          0.2        0\n"
     ]
    }
   ],
   "source": [
    "data.species = species\n",
    "print(data.head())"
   ]
  },
  {
   "cell_type": "code",
   "execution_count": 7,
   "id": "65823d61",
   "metadata": {
    "execution": {
     "iopub.execute_input": "2024-02-11T11:37:40.677654Z",
     "iopub.status.busy": "2024-02-11T11:37:40.677237Z",
     "iopub.status.idle": "2024-02-11T11:37:40.815349Z",
     "shell.execute_reply": "2024-02-11T11:37:40.814032Z"
    },
    "papermill": {
     "duration": 0.148101,
     "end_time": "2024-02-11T11:37:40.818336",
     "exception": false,
     "start_time": "2024-02-11T11:37:40.670235",
     "status": "completed"
    },
    "tags": []
   },
   "outputs": [],
   "source": [
    "X = data[['sepal_length','sepal_width','petal_length','petal_width']]\n",
    "y = data['species']\n",
    "\n",
    "from sklearn.model_selection import train_test_split\n",
    "\n",
    "train_X, val_X, train_y, val_y = train_test_split(X,y, random_state=0,test_size=0.2)"
   ]
  },
  {
   "cell_type": "code",
   "execution_count": 8,
   "id": "dadb6729",
   "metadata": {
    "execution": {
     "iopub.execute_input": "2024-02-11T11:37:40.830718Z",
     "iopub.status.busy": "2024-02-11T11:37:40.830278Z",
     "iopub.status.idle": "2024-02-11T11:37:41.450773Z",
     "shell.execute_reply": "2024-02-11T11:37:41.449395Z"
    },
    "papermill": {
     "duration": 0.630267,
     "end_time": "2024-02-11T11:37:41.453804",
     "exception": false,
     "start_time": "2024-02-11T11:37:40.823537",
     "status": "completed"
    },
    "tags": []
   },
   "outputs": [],
   "source": [
    "from sklearn.ensemble import RandomForestClassifier\n",
    "\n",
    "model = RandomForestClassifier(random_state=0)\n",
    "model.fit(train_X, train_y)\n",
    "pred_val = model.predict(val_X)"
   ]
  },
  {
   "cell_type": "code",
   "execution_count": 9,
   "id": "9b2ad0e0",
   "metadata": {
    "execution": {
     "iopub.execute_input": "2024-02-11T11:37:41.465974Z",
     "iopub.status.busy": "2024-02-11T11:37:41.465536Z",
     "iopub.status.idle": "2024-02-11T11:37:41.472407Z",
     "shell.execute_reply": "2024-02-11T11:37:41.471231Z"
    },
    "papermill": {
     "duration": 0.016174,
     "end_time": "2024-02-11T11:37:41.475185",
     "exception": false,
     "start_time": "2024-02-11T11:37:41.459011",
     "status": "completed"
    },
    "tags": []
   },
   "outputs": [
    {
     "name": "stdout",
     "output_type": "stream",
     "text": [
      "0.0\n"
     ]
    }
   ],
   "source": [
    "from sklearn.metrics import mean_absolute_error\n",
    "\n",
    "mae = mean_absolute_error(pred_val, val_y)\n",
    "print(mae)"
   ]
  },
  {
   "cell_type": "code",
   "execution_count": null,
   "id": "4b0d283d",
   "metadata": {
    "papermill": {
     "duration": 0.004928,
     "end_time": "2024-02-11T11:37:41.485285",
     "exception": false,
     "start_time": "2024-02-11T11:37:41.480357",
     "status": "completed"
    },
    "tags": []
   },
   "outputs": [],
   "source": []
  }
 ],
 "metadata": {
  "kaggle": {
   "accelerator": "none",
   "dataSources": [
    {
     "datasetId": 782268,
     "sourceId": 1345177,
     "sourceType": "datasetVersion"
    }
   ],
   "dockerImageVersionId": 30646,
   "isGpuEnabled": false,
   "isInternetEnabled": true,
   "language": "python",
   "sourceType": "notebook"
  },
  "kernelspec": {
   "display_name": "Python 3",
   "language": "python",
   "name": "python3"
  },
  "language_info": {
   "codemirror_mode": {
    "name": "ipython",
    "version": 3
   },
   "file_extension": ".py",
   "mimetype": "text/x-python",
   "name": "python",
   "nbconvert_exporter": "python",
   "pygments_lexer": "ipython3",
   "version": "3.10.13"
  },
  "papermill": {
   "default_parameters": {},
   "duration": 7.336979,
   "end_time": "2024-02-11T11:37:42.112690",
   "environment_variables": {},
   "exception": null,
   "input_path": "__notebook__.ipynb",
   "output_path": "__notebook__.ipynb",
   "parameters": {},
   "start_time": "2024-02-11T11:37:34.775711",
   "version": "2.5.0"
  }
 },
 "nbformat": 4,
 "nbformat_minor": 5
}
